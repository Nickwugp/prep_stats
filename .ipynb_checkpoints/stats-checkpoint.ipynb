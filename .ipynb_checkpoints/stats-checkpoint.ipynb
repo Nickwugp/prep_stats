{
 "cells": [
  {
   "cell_type": "code",
   "execution_count": 33,
   "metadata": {
    "ExecuteTime": {
     "end_time": "2019-12-23T07:46:30.713663Z",
     "start_time": "2019-12-23T07:46:30.362316Z"
    }
   },
   "outputs": [],
   "source": [
    "import numpy as np\n",
    "import matplotlib.pyplot as plt"
   ]
  },
  {
   "cell_type": "markdown",
   "metadata": {},
   "source": [
    "### Bayes' theorem (Bayes' law or Bayes' rule)    \n",
    "　　In probability theory and statistics, Bayes’s theorem (alternatively Bayes’s law or Bayes’s rule) describes the probability of an event, based on `prior knowledge of conditions that might be related to the event`.    \n",
    "　　For example, if cancer is related to age, then, using Bayes’ theorem, a person's age can be used to more accurately assess the probability that they have cancer than can be done without knowledge of the person’s age. \n",
    "　　With the Bayesian probability interpretation the theorem expresses how a degree of belief, expressed as a probability, should rationally change to account for availability of related evidence. \n",
    "\n",
    "$$ P(A\\mid B) = \\frac {P(B\\mid A)P(A)}{P(B)} $$\n",
    "\n",
    "P(A|B) is a conditional probability: the likelihood of event A occurring given that B is true.    \n",
    "P(B∣A) is also a conditional probability: the likelihood of event B occurring given that A is true.    \n",
    "P(A) and P(B) re the probabilities of observing A and B independently of each other; this is known as the `marginal probability`"
   ]
  },
  {
   "cell_type": "code",
   "execution_count": 15,
   "metadata": {
    "ExecuteTime": {
     "end_time": "2019-12-23T06:06:55.645238Z",
     "start_time": "2019-12-23T06:06:55.618238Z"
    },
    "collapsed": true
   },
   "outputs": [
    {
     "ename": "SyntaxError",
     "evalue": "invalid syntax (<ipython-input-15-1fe5a3c869c0>, line 3)",
     "output_type": "error",
     "traceback": [
      "\u001b[1;36m  File \u001b[1;32m\"<ipython-input-15-1fe5a3c869c0>\"\u001b[1;36m, line \u001b[1;32m3\u001b[0m\n\u001b[1;33m    <video controls=\"\" preload=\"none\" width=\"900px\" height=\"600px\">\u001b[0m\n\u001b[1;37m    ^\u001b[0m\n\u001b[1;31mSyntaxError\u001b[0m\u001b[1;31m:\u001b[0m invalid syntax\n"
     ]
    }
   ],
   "source": [
    "%%html\n",
    "# from youtuber Veritasium\n",
    "<video controls=\"\" preload=\"none\" width=\"900px\" height=\"600px\">\n",
    "    <source src=\"The Bayesian Trap.mp4\">\n",
    "</video>"
   ]
  },
  {
   "cell_type": "markdown",
   "metadata": {},
   "source": [
    "You're testing for a disease and advertising that the test is `99%` accurate; that is if you have the disease, you will test positive `99%` of the time, and if you don't have the disease, you will test negative `99%` of the time.    \n",
    "Let's say that `1%` of all people have the disease.    \n",
    "Someone tests positive, what's the probability that the person has the disease?"
   ]
  },
  {
   "cell_type": "code",
   "execution_count": 16,
   "metadata": {
    "ExecuteTime": {
     "end_time": "2019-12-23T07:03:15.400826Z",
     "start_time": "2019-12-23T07:03:15.375827Z"
    }
   },
   "outputs": [
    {
     "name": "stdout",
     "output_type": "stream",
     "text": [
      "given positive, prob of actually having the disease is 50.0%\n"
     ]
    }
   ],
   "source": [
    "PT = .99\n",
    "NF = .99\n",
    "T = .01\n",
    "\n",
    "PF = 1 - NF\n",
    "F = 1 - T\n",
    "# Bayes' Theorem\n",
    "TP = (PT*T)/((PT*T) + (PF*F))\n",
    "print(\"given positive, prob of actually having the disease is {:.1%}\".format(TP%100))"
   ]
  },
  {
   "cell_type": "markdown",
   "metadata": {},
   "source": [
    "You have two coins in your hand. Out of the two coins, one is a real coin (heads and tails) and the other is a faulty coin with tails on both sides.\n",
    "\n",
    "You are blindfolded and forced to choose a random coin and then toss it in the air. The coin lands with tails facing upwards. Find the probability that this is the faulty coin. (hint: probability tree)\n",
    "![](tree_diagram.png)"
   ]
  },
  {
   "cell_type": "code",
   "execution_count": 9,
   "metadata": {
    "ExecuteTime": {
     "end_time": "2019-12-23T03:34:59.712778Z",
     "start_time": "2019-12-23T03:34:59.701796Z"
    },
    "collapsed": true
   },
   "outputs": [
    {
     "name": "stdout",
     "output_type": "stream",
     "text": [
      "0.6666666666666666\n"
     ]
    }
   ],
   "source": [
    "# T - fair coin, F - faulty coin, PF - P(tail|faulty coin)\n",
    "# FP - P(faulty coin|tail)\n",
    "T = .5\n",
    "F = .5\n",
    "PT = .5\n",
    "\n",
    "PF = 1  # both sides are tails\n",
    "\n",
    "FP = (PF*F) / ((PF*F) + (PT*T))\n",
    "print(FP)"
   ]
  },
  {
   "cell_type": "markdown",
   "metadata": {},
   "source": []
  },
  {
   "cell_type": "markdown",
   "metadata": {},
   "source": [
    "### ***Central Limit Theorem***\n",
    ">　　With a large enough collection of samples from the same population, the `sample means` will be `normally distributed`.    \n",
    "　　CLI promises sampling mean distribution will be normal, therefore we can perform a `hypothesis test`. More concretely, we can ***access the likelyhood that a given mean came from a particular distribution*** and then, based on this, reject or fail to reject the null hypothesis(a sample mean came form that population).    \n",
    "　　This empowers all of the `A/B tests` in practice.\n",
    "\n",
    "    Note: It doesn't make any assumptions about the underlying distribution of the data;    \n",
    "    With reasonably large sample of roughly 30 or more, the theorem will alway be ture no matter what the population distribution looks like.\n",
    "\n",
    "![](cli.png)"
   ]
  },
  {
   "cell_type": "code",
   "execution_count": 14,
   "metadata": {
    "ExecuteTime": {
     "end_time": "2019-12-23T04:02:56.435421Z",
     "start_time": "2019-12-23T04:02:56.424417Z"
    },
    "collapsed": true
   },
   "outputs": [
    {
     "data": {
      "text/html": [
       "<video controls=\"\" preload=\"none\" width=\"900px\" height=\"600px\">\n",
       "    <source src=\"CLI.mp4\">\n",
       "</video>\n"
      ],
      "text/plain": [
       "<IPython.core.display.HTML object>"
      ]
     },
     "metadata": {},
     "output_type": "display_data"
    }
   ],
   "source": [
    "%%html\n",
    "<video controls=\"\" preload=\"none\" width=\"900px\" height=\"600px\">\n",
    "    <source src=\"CLI.mp4\">\n",
    "</video>"
   ]
  },
  {
   "cell_type": "markdown",
   "metadata": {},
   "source": [
    "### Law of large numbers\n",
    ">　　As the size of sample increased, the estimate of the sample mean will more accurately reflect the population mean.\n",
    "\n",
    "![](large_num.png)"
   ]
  },
  {
   "cell_type": "code",
   "execution_count": 54,
   "metadata": {
    "ExecuteTime": {
     "end_time": "2019-12-23T08:04:11.852033Z",
     "start_time": "2019-12-23T08:04:11.614011Z"
    },
    "collapsed": true
   },
   "outputs": [
    {
     "data": {
      "image/png": "[encoded data removed]",
      "text/plain": [
       "<Figure size 432x288 with 1 Axes>"
      ]
     },
     "metadata": {
      "needs_background": "light"
     },
     "output_type": "display_data"
    }
   ],
   "source": [
    "from numpy.random import randint\n",
    "\n",
    "# a standard die numbered 1 through 6\n",
    "# 100 samples of size 30\n",
    "means_100 = [randint(1, 7, 30).mean() for i in range(100)]\n",
    "# means_1000 = [randint(1, 7, 30).mean() for i in range(1000)]\n",
    "\n",
    "plt.hist(means_100, ec='grey', alpha=0.5)\n",
    "# plt.hist(means_1000, ec='grey', alpha=0.5)\n",
    "\n",
    "plt.show()"
   ]
  },
  {
   "cell_type": "code",
   "execution_count": 48,
   "metadata": {
    "ExecuteTime": {
     "end_time": "2019-12-23T07:59:19.275887Z",
     "start_time": "2019-12-23T07:59:18.901871Z"
    },
    "collapsed": true
   },
   "outputs": [
    {
     "data": {
      "text/plain": [
       "(array([0.26086957, 0.52173913, 0.7826087 , 0.97826087, 0.84782609,\n",
       "        1.56521739, 0.84782609, 0.26086957, 0.26086957, 0.19565217]),\n",
       " array([2.76666667, 2.92      , 3.07333333, 3.22666667, 3.38      ,\n",
       "        3.53333333, 3.68666667, 3.84      , 3.99333333, 4.14666667,\n",
       "        4.3       ]),\n",
       " <a list of 10 Patch objects>)"
      ]
     },
     "execution_count": 48,
     "metadata": {},
     "output_type": "execute_result"
    },
    {
     "data": {
      "image/png": "[encoded data removed]",
      "text/plain": [
       "<Figure size 432x288 with 1 Axes>"
      ]
     },
     "metadata": {
      "needs_background": "light"
     },
     "output_type": "display_data"
    }
   ],
   "source": []
  },
  {
   "cell_type": "markdown",
   "metadata": {
    "ExecuteTime": {
     "end_time": "2019-12-23T08:02:17.165588Z",
     "start_time": "2019-12-23T08:02:17.149592Z"
    }
   },
   "source": [
    "### Probability Distributions\n",
    "+ Indicates likelihood of an outcome\n",
    "+ Probabilities must add up to 1\n",
    "\n",
    ">　　In probability theory and statistics, a probability distribution is ***a mathematical function that provides the probabilities of occurrence of different possible outcomes in an experiment***.    \n",
    "　　In more technical terms, the probability distribution is ***a description of a random phenomenon in terms of the probabilities of events***. 概率分布是依据所有可能事件的概率来描述随机现象.\n",
    ">>In probability theory, `an event` is a set of outcomes of an experiment (a subset of the sample space) to which a probability is assigned.\n",
    "\n",
    ">　　Probability distributions are generally divided into two classes. A `discrete probability distribution` can be encoded by a discrete list of the probabilities of the outcomes, known as a `PMF - probability mass function`. On the other hand, a `continuous probability distribution` is typically described by `PDF - probability density functions` (with the probability of any individual outcome actually being 0).\n",
    "\n",
    "\n",
    "![](common_distributions.png)"
   ]
  },
  {
   "cell_type": "code",
   "execution_count": 56,
   "metadata": {
    "ExecuteTime": {
     "end_time": "2019-12-23T08:08:33.047234Z",
     "start_time": "2019-12-23T08:08:33.038242Z"
    },
    "collapsed": true
   },
   "outputs": [
    {
     "ename": "SyntaxError",
     "evalue": "invalid syntax (<ipython-input-56-46a513f7f48c>, line 2)",
     "output_type": "error",
     "traceback": [
      "\u001b[1;36m  File \u001b[1;32m\"<ipython-input-56-46a513f7f48c>\"\u001b[1;36m, line \u001b[1;32m2\u001b[0m\n\u001b[1;33m    <video controls=\"\" preload=\"none\" width=\"900px\" height=\"600px\">\u001b[0m\n\u001b[1;37m    ^\u001b[0m\n\u001b[1;31mSyntaxError\u001b[0m\u001b[1;31m:\u001b[0m invalid syntax\n"
     ]
    }
   ],
   "source": [
    "%%html\n",
    "<video controls=\"\" preload=\"none\" width=\"900px\" height=\"600px\">\n",
    "    <source src=\"proba distributions.mp4\">\n",
    "</video>"
   ]
  },
  {
   "cell_type": "markdown",
   "metadata": {},
   "source": [
    "#### Binomial distribution\n",
    ">　　In probability theory and statistics, the binomial distribution with parameters `n` and `p` is the `discrete probability distribution` of ***the number of successes in a sequence of n independent experiments***, each asking a yes–no question, and each with its own boolean-valued outcome: success (with probability p) or failure (with probability q = 1 − p).    \n",
    "　　A single success/failure experiment is also called a `Bernoulli trial` or `Bernoulli experiment` and a sequence of outcomes is called a `Bernoulli process`; "
   ]
  },
  {
   "cell_type": "code",
   "execution_count": null,
   "metadata": {},
   "outputs": [],
   "source": []
  },
  {
   "cell_type": "code",
   "execution_count": null,
   "metadata": {},
   "outputs": [],
   "source": []
  },
  {
   "cell_type": "code",
   "execution_count": null,
   "metadata": {},
   "outputs": [],
   "source": []
  },
  {
   "cell_type": "markdown",
   "metadata": {},
   "source": [
    "#### Normal distribution\n",
    ">　　Normal distribution is a bell-curve shaped `continuous probability distribution`.    \n",
    "　　In probability theory, a normal (or Gaussian) distribution is a type of continuous probability distribution for a real-valued random variable.\n",
    "\n",
    "![](normal_distribution.png)"
   ]
  },
  {
   "cell_type": "code",
   "execution_count": null,
   "metadata": {},
   "outputs": [],
   "source": []
  },
  {
   "cell_type": "code",
   "execution_count": null,
   "metadata": {},
   "outputs": [],
   "source": []
  },
  {
   "cell_type": "code",
   "execution_count": null,
   "metadata": {},
   "outputs": [],
   "source": []
  },
  {
   "cell_type": "markdown",
   "metadata": {},
   "source": [
    "#### Poisson distribution"
   ]
  },
  {
   "cell_type": "code",
   "execution_count": null,
   "metadata": {},
   "outputs": [],
   "source": []
  },
  {
   "cell_type": "code",
   "execution_count": null,
   "metadata": {},
   "outputs": [],
   "source": []
  },
  {
   "cell_type": "code",
   "execution_count": null,
   "metadata": {},
   "outputs": [],
   "source": []
  },
  {
   "cell_type": "code",
   "execution_count": null,
   "metadata": {},
   "outputs": [],
   "source": []
  },
  {
   "cell_type": "code",
   "execution_count": null,
   "metadata": {},
   "outputs": [],
   "source": []
  },
  {
   "cell_type": "code",
   "execution_count": null,
   "metadata": {},
   "outputs": [],
   "source": []
  },
  {
   "cell_type": "code",
   "execution_count": null,
   "metadata": {},
   "outputs": [],
   "source": []
  },
  {
   "cell_type": "code",
   "execution_count": null,
   "metadata": {},
   "outputs": [],
   "source": []
  },
  {
   "cell_type": "code",
   "execution_count": null,
   "metadata": {},
   "outputs": [],
   "source": []
  },
  {
   "cell_type": "code",
   "execution_count": null,
   "metadata": {},
   "outputs": [],
   "source": []
  },
  {
   "cell_type": "code",
   "execution_count": null,
   "metadata": {},
   "outputs": [],
   "source": []
  },
  {
   "cell_type": "code",
   "execution_count": null,
   "metadata": {},
   "outputs": [],
   "source": []
  },
  {
   "cell_type": "code",
   "execution_count": null,
   "metadata": {},
   "outputs": [],
   "source": []
  },
  {
   "cell_type": "code",
   "execution_count": null,
   "metadata": {},
   "outputs": [],
   "source": []
  }
 ],
 "metadata": {
  "kernelspec": {
   "display_name": "Python 3",
   "language": "python",
   "name": "python3"
  },
  "language_info": {
   "codemirror_mode": {
    "name": "ipython",
    "version": 3
   },
   "file_extension": ".py",
   "mimetype": "text/x-python",
   "name": "python",
   "nbconvert_exporter": "python",
   "pygments_lexer": "ipython3",
   "version": "3.7.4"
  },
  "toc": {
   "base_numbering": 1,
   "nav_menu": {},
   "number_sections": true,
   "sideBar": true,
   "skip_h1_title": false,
   "title_cell": "Table of Contents",
   "title_sidebar": "Contents",
   "toc_cell": false,
   "toc_position": {},
   "toc_section_display": true,
   "toc_window_display": false
  },
  "varInspector": {
   "cols": {
    "lenName": 16,
    "lenType": 16,
    "lenVar": 40
   },
   "kernels_config": {
    "python": {
     "delete_cmd_postfix": "",
     "delete_cmd_prefix": "del ",
     "library": "var_list.py",
     "varRefreshCmd": "print(var_dic_list())"
    },
    "r": {
     "delete_cmd_postfix": ") ",
     "delete_cmd_prefix": "rm(",
     "library": "var_list.r",
     "varRefreshCmd": "cat(var_dic_list()) "
    }
   },
   "types_to_exclude": [
    "module",
    "function",
    "builtin_function_or_method",
    "instance",
    "_Feature"
   ],
   "window_display": false
  }
 },
 "nbformat": 4,
 "nbformat_minor": 2
}
